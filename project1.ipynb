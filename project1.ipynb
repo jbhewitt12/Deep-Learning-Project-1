{
 "cells": [
  {
   "cell_type": "markdown",
   "metadata": {},
   "source": [
    "## Project 1 report\n",
    "\n",
    "### Name (SID): Joshua Hewitt (460264208)"
   ]
  },
  {
   "cell_type": "markdown",
   "metadata": {},
   "source": [
    "Please follow the instructions carefully:\n",
    "- This project is based on Cifar-10 dataset. The basic loading operations are added already. Please do not use other dataset.\n",
    "- Remove the corresponding `e.g.` and fill in all the blanks in this file, including some codes in Part 1, your choices for Part 2, your task for Part 3, and the analyses for your choices, specification of your computer, etc.\n",
    "- Please do not change the format of this report.\n",
    "- In your analyses, you can add math functions and graphs.\n",
    "- Please make clear comments and references for any codes written by yourself or copied from other sources."
   ]
  },
  {
   "cell_type": "markdown",
   "metadata": {},
   "source": [
    "### Part 0: Prepare for Colab\n",
    "\n",
    "If you work on [Google Colab](https://colab.research.google.com), you need to first install PyTorch each time you run the file. You can also upload file and load files from your google drive.\n",
    "Besides, you can also select GPU as Hardware accelerator in Edit->Notebook settings. \n",
    "\n",
    "Remember to run some of the following blocks if you work on Google Colab. You can ignore this part if you are not using Google Colab."
   ]
  },
  {
   "cell_type": "code",
   "execution_count": null,
   "metadata": {},
   "outputs": [],
   "source": []
  },
  {
   "cell_type": "code",
   "execution_count": null,
   "metadata": {},
   "outputs": [],
   "source": []
  },
  {
   "cell_type": "markdown",
   "metadata": {
    "scrolled": true
   },
   "source": [
    "### Part 1: Baseline model\n",
    "You need to run this model successfully to get the marks. You should finish the codes that are used to split the training dataset into training set (45000 images) and validation set (5000 images) and draw the loss curve for training loss and validation loss. You only need to change the codes in 1.2 and 1.6 for successfuly experiments."
   ]
  },
  {
   "cell_type": "markdown",
   "metadata": {},
   "source": [
    "### 1.1 prepare data"
   ]
  },
  {
   "cell_type": "code",
   "execution_count": 1,
   "metadata": {},
   "outputs": [
    {
     "name": "stdout",
     "output_type": "stream",
     "text": [
      "Files already downloaded and verified\n",
      "Files already downloaded and verified\n",
      "initial trainset length\n",
      "50000\n",
      "testset length\n",
      "10000\n"
     ]
    }
   ],
   "source": [
    "import torch\n",
    "import torchvision\n",
    "import torchvision.transforms as transforms\n",
    "import torch.nn as nn\n",
    "import torch.utils.data\n",
    "import torch.nn.functional as F\n",
    "\n",
    "\n",
    "\n",
    "transform = transforms.ToTensor()\n",
    "\n",
    "trainset = torchvision.datasets.CIFAR10(root='./data', train=True,\n",
    "                                        download=True, transform=transform)\n",
    "\n",
    "testset = torchvision.datasets.CIFAR10(root='./data', train=False,\n",
    "                                       download=True, transform=transform)\n",
    "testloader = torch.utils.data.DataLoader(testset, batch_size=4,\n",
    "                                         shuffle=False, num_workers=0)\n",
    "\n",
    "print('initial trainset length')\n",
    "print(len(trainset))\n",
    "print('testset length')\n",
    "print(len(testset))\n",
    "\n",
    "classes = ('plane', 'car', 'bird', 'cat',\n",
    "           'deer', 'dog', 'frog', 'horse', 'ship', 'truck')"
   ]
  },
  {
   "cell_type": "markdown",
   "metadata": {
    "scrolled": true
   },
   "source": [
    "### 1.2 split the training data into training and validation\n",
    "In most of the cases, you are given the test set, so you need to prepare some validation data to evaluate your model during training stage. You need to make a validation dataset that contains 5000 training images, and the rest 45000 images are used as the new training set."
   ]
  },
  {
   "cell_type": "code",
   "execution_count": 2,
   "metadata": {},
   "outputs": [],
   "source": [
    "# Your split codes comes here.\n",
    "# You need to random select the 5000 validation images \n",
    "\n",
    "\n",
    "\n",
    "# found here: https://pytorch.org/docs/stable/data.html\n",
    "valset, trainset = torch.utils.data.random_split(trainset, [5000,45000])\n",
    "\n",
    "trainloader = torch.utils.data.DataLoader(trainset, batch_size=4,\n",
    "                                          shuffle=True, num_workers=0)\n",
    "\n",
    "valloader = torch.utils.data.DataLoader(valset, batch_size=4,\n",
    "                                         shuffle=False, num_workers=0)\n",
    "\n",
    "def evaluate_validation_set(net, valloader, criterion):\n",
    "    correct = 0\n",
    "    total = 0\n",
    "    running_loss = 0.0\n",
    "    count = 0\n",
    "    with torch.no_grad():\n",
    "        for data in valloader:\n",
    "            images, labels = data\n",
    "            outputs = net(images)\n",
    "            loss = criterion(outputs, labels)\n",
    "            running_loss += loss.item()\n",
    "            _, predicted = torch.max(outputs.data, 1)\n",
    "            total += labels.size(0)\n",
    "            correct += (predicted == labels).sum().item()\n",
    "            count += 1\n",
    "\n",
    "    accuracy = correct / total\n",
    "    loss = running_loss/count\n",
    "    return accuracy, loss\n",
    "# besides, you can also make modifications for faster training \n",
    "# by selecting a subset of the original dataset."
   ]
  },
  {
   "cell_type": "markdown",
   "metadata": {},
   "source": [
    "### 1.3 Define a Baseline Convolution Neural Network"
   ]
  },
  {
   "cell_type": "code",
   "execution_count": 3,
   "metadata": {},
   "outputs": [],
   "source": [
    "class Net(nn.Module):\n",
    "    def __init__(self):\n",
    "        super(Net, self).__init__()\n",
    "        self.conv1 = nn.Conv2d(3, 6, 5)\n",
    "        self.pool = nn.MaxPool2d(2, 2)\n",
    "        self.conv2 = nn.Conv2d(6, 16, 5)\n",
    "        self.fc1 = nn.Linear(16 * 5 * 5, 120)\n",
    "        self.fc2 = nn.Linear(120, 84)\n",
    "        self.fc3 = nn.Linear(84, 10)\n",
    "\n",
    "    def forward(self, x):\n",
    "        x = self.pool(F.relu(self.conv1(x)))\n",
    "        x = self.pool(F.relu(self.conv2(x)))\n",
    "        x = x.view(-1, 16 * 5 * 5)\n",
    "        x = F.relu(self.fc1(x))\n",
    "        x = F.relu(self.fc2(x))\n",
    "        x = self.fc3(x)\n",
    "        return x\n",
    "\n",
    "\n",
    "net = Net()"
   ]
  },
  {
   "cell_type": "markdown",
   "metadata": {},
   "source": [
    "### 1.4 Define a Loss function and optimizer"
   ]
  },
  {
   "cell_type": "code",
   "execution_count": 4,
   "metadata": {},
   "outputs": [],
   "source": [
    "import torch.optim as optim\n",
    "\n",
    "criterion = nn.CrossEntropyLoss()\n",
    "optimizer = optim.SGD(net.parameters(), lr=0.001, momentum=0.9)\n"
   ]
  },
  {
   "cell_type": "markdown",
   "metadata": {},
   "source": [
    "### 1.5 Train the network"
   ]
  },
  {
   "cell_type": "code",
   "execution_count": 5,
   "metadata": {},
   "outputs": [
    {
     "name": "stdout",
     "output_type": "stream",
     "text": [
      "[1,  2000] loss: 2.303\n",
      "[1,  4000] loss: 2.216\n",
      "[1,  6000] loss: 2.021\n",
      "[1,  8000] loss: 1.878\n",
      "[1, 10000] loss: 1.772\n",
      "[2,  2000] loss: 1.631\n",
      "[2,  4000] loss: 1.571\n",
      "[2,  6000] loss: 1.545\n",
      "[2,  8000] loss: 1.512\n",
      "[2, 10000] loss: 1.478\n",
      "Finished Training\n"
     ]
    }
   ],
   "source": [
    "iteration_log = []\n",
    "loss_log = []\n",
    "accuracy_log = []\n",
    "validation_loss_log = []\n",
    "validation_accuracy_log = []\n",
    "visualizer_iteration = 1000\n",
    "for epoch in range(2):  # loop over the dataset multiple times\n",
    "\n",
    "    running_loss = 0.0\n",
    "    running_loss2 = 0.0\n",
    "    running_total = 0\n",
    "    running_correct = 0\n",
    "    for i, data in enumerate(trainloader, 0):\n",
    "        # get the inputs\n",
    "        inputs, labels = data\n",
    "        # zero the parameter gradients\n",
    "        optimizer.zero_grad()\n",
    "\n",
    "        # forward + backward + optimize\n",
    "        outputs = net(inputs)\n",
    "        loss = criterion(outputs, labels)\n",
    "        loss.backward()\n",
    "        optimizer.step()\n",
    "\n",
    "        #get accuracy \n",
    "        _, predicted = torch.max(outputs.data, 1)\n",
    "        running_total += labels.size(0)\n",
    "        running_correct += (predicted == labels).sum().item()\n",
    "\n",
    "        # print statistics\n",
    "        running_loss += loss.item()\n",
    "        running_loss2 += loss.item()\n",
    "\n",
    "        if i % visualizer_iteration == 0 and i != 0:\n",
    "            accuracy, loss = evaluate_validation_set(net, valloader, criterion)\n",
    "            validation_accuracy_log.append(accuracy)\n",
    "            validation_loss_log.append(loss)\n",
    "\n",
    "            iteration_log.append(len(trainloader)*(epoch) + i)\n",
    "            if i != 0:\n",
    "                accuracy_log.append(running_correct/running_total)\n",
    "                loss_log.append(running_loss2/visualizer_iteration)\n",
    "            else:\n",
    "                accuracy_log.append(running_correct)\n",
    "                loss_log.append(running_loss2)\n",
    "        \n",
    "            running_correct = 0\n",
    "            running_total = 0\n",
    "            running_loss2 = 0.0\n",
    "            # print('iteration_log:')\n",
    "            # print(iteration_log)\n",
    "            # print('loss_log:')\n",
    "            # print(loss_log)\n",
    "            # print('accuracy_log:')\n",
    "            # print(accuracy_log)\n",
    "\n",
    "        if i % 2000 == 1999:    # print every 2000 mini-batches\n",
    "\n",
    "            print('[%d, %5d] loss: %.3f' %\n",
    "                  (epoch + 1, i + 1, running_loss / 2000))\n",
    "            running_loss = 0.0\n",
    "\n",
    "print('Finished Training')"
   ]
  },
  {
   "cell_type": "markdown",
   "metadata": {
    "scrolled": true
   },
   "source": [
    "### 1.6 visualize the loss and accuracy\n",
    "Using the loss of both training data and validation data to evaluate the model."
   ]
  },
  {
   "cell_type": "code",
   "execution_count": 6,
   "metadata": {},
   "outputs": [
    {
     "data": {
      "image/png": "[encoded data removed]",
      "text/plain": [
       "<matplotlib.figure.Figure at 0x14fc501d898>"
      ]
     },
     "metadata": {},
     "output_type": "display_data"
    }
   ],
   "source": [
    "%matplotlib inline\n",
    "import matplotlib.pyplot as plt\n",
    "import numpy as np\n",
    "\n",
    "# functions to show the loss\n",
    "\n",
    "plt.figure(1)\n",
    "\n",
    "plt.subplot(211)\n",
    "plt.plot(iteration_log, loss_log, 'r--', label = 'training loss')\n",
    "plt.plot(iteration_log, validation_loss_log, 'b-.', label = 'validation loss')\n",
    "plt.title('Loss for training and validation')\n",
    "plt.xlabel('training iterations')\n",
    "legend = plt.legend(loc='upper right', shadow=True)\n",
    "plt.subplot(212)\n",
    "plt.plot(iteration_log, accuracy_log, 'r--', label = 'training accuracy')\n",
    "plt.plot(iteration_log, validation_accuracy_log, 'b-.', label = 'validation accuracy')\n",
    "plt.title('Accuracy for training and validation')\n",
    "plt.xlabel('training iterations')\n",
    "legend = plt.legend(loc='lower right', shadow=True)\n",
    "\n",
    "plt.tight_layout()\n",
    "plt.show()\n",
    "\n"
   ]
  },
  {
   "cell_type": "markdown",
   "metadata": {},
   "source": [
    "### 1.7 Eval the trained network"
   ]
  },
  {
   "cell_type": "code",
   "execution_count": 7,
   "metadata": {},
   "outputs": [
    {
     "name": "stdout",
     "output_type": "stream",
     "text": [
      "Accuracy of the network on the 10000 test images: 48 %\n"
     ]
    }
   ],
   "source": [
    "def eval_net(net, testloader):\n",
    "    correct = 0\n",
    "    total = 0\n",
    "    with torch.no_grad():\n",
    "        for data in testloader:\n",
    "            images, labels = data\n",
    "            outputs = net(images)\n",
    "            _, predicted = torch.max(outputs.data, 1)\n",
    "            total += labels.size(0)\n",
    "            correct += (predicted == labels).sum().item()\n",
    "\n",
    "    print('Accuracy of the network on the 10000 test images: %d %%' % (\n",
    "        100 * correct / total))\n",
    "\n",
    "eval_net(net, testloader)"
   ]
  },
  {
   "cell_type": "markdown",
   "metadata": {},
   "source": [
    "### Part 2: Hyperparameters Selection\n",
    "Following the instruction file, you need to make choices for each hyperparameters:\n",
    "\n",
    "1. Batch size:\n",
    "2. Base learning rate:\n",
    "3. Number of epochs: "
   ]
  },
  {
   "cell_type": "markdown",
   "metadata": {},
   "source": [
    "**Question**: Why do you make such choices? Use some figures, math equations, codes and printout to make analysis."
   ]
  },
  {
   "cell_type": "code",
   "execution_count": 8,
   "metadata": {},
   "outputs": [],
   "source": [
    "# Your codes comes here. \n",
    "# Please do not define the networks again, just make changes to the training procedure.\n"
   ]
  },
  {
   "cell_type": "markdown",
   "metadata": {},
   "source": [
    "##### your analysis comes here:\n",
    "-----\n",
    "1) \n",
    "\n",
    "2) \n",
    "\n"
   ]
  },
  {
   "cell_type": "markdown",
   "metadata": {},
   "source": [
    "### Part 3: More options\n",
    "\n",
    "Please indicate the three tasks you are assigned here:\n",
    "\n",
    "1) Transformation: e.g. Resize (hyperparameters: size, interpolation), ...\n",
    "\n",
    "2) Structure: \n",
    "\n",
    "3) Training procedure: "
   ]
  },
  {
   "cell_type": "markdown",
   "metadata": {},
   "source": [
    "For your new baseline and the test for different options, you need to write them in **ONE** single `.py` file. You can debug here, but do **NOT** include your codes in the submitted ipynb file. Your codes for this part will be put in the **project1.py** file."
   ]
  },
  {
   "cell_type": "markdown",
   "metadata": {},
   "source": [
    "**Question**: how do you define your new baseline and why? Please highlight the differences between your new baseline and the previous baseline."
   ]
  },
  {
   "cell_type": "markdown",
   "metadata": {},
   "source": [
    "##### your analysis comes here:\n",
    "-----\n",
    "1) \n",
    "\n",
    "2) \n",
    "\n",
    "\n",
    "_____"
   ]
  },
  {
   "cell_type": "markdown",
   "metadata": {},
   "source": [
    "**Question**: how did you test the three tasks and what did you learn? Please use some figures, math equations and output from your codes to make analysis. "
   ]
  },
  {
   "cell_type": "markdown",
   "metadata": {},
   "source": [
    "##### your analysis comes here:\n",
    "-----\n",
    "1) \n",
    "\n",
    "2) \n",
    "\n",
    "\n",
    "_____"
   ]
  },
  {
   "cell_type": "markdown",
   "metadata": {},
   "source": [
    "### Reference\n",
    "1. Author, Title, url\n",
    "2. \n",
    "3. "
   ]
  },
  {
   "cell_type": "markdown",
   "metadata": {},
   "source": [
    "### Specs:\n",
    "e.g. Your cpu version or GPU version, the memory size of your computer. Your software versions."
   ]
  }
 ],
 "metadata": {
  "kernelspec": {
   "display_name": "Python 3",
   "language": "python",
   "name": "python3"
  },
  "language_info": {
   "codemirror_mode": {
    "name": "ipython",
    "version": 3
   },
   "file_extension": ".py",
   "mimetype": "text/x-python",
   "name": "python",
   "nbconvert_exporter": "python",
   "pygments_lexer": "ipython3",
   "version": "3.6.4"
  }
 },
 "nbformat": 4,
 "nbformat_minor": 2
}
