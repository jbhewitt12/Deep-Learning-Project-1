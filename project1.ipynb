{
 "cells": [
  {
   "cell_type": "markdown",
   "metadata": {},
   "source": [
    "## Project 1 report\n",
    "\n",
    "### Name (SID): Joshua Hewitt (460264208)"
   ]
  },
  {
   "cell_type": "markdown",
   "metadata": {},
   "source": [
    "Please follow the instructions carefully:\n",
    "- This project is based on Cifar-10 dataset. The basic loading operations are added already. Please do not use other dataset.\n",
    "- Remove the corresponding `e.g.` and fill in all the blanks in this file, including some codes in Part 1, your choices for Part 2, your task for Part 3, and the analyses for your choices, specification of your computer, etc.\n",
    "- Please do not change the format of this report.\n",
    "- In your analyses, you can add math functions and graphs.\n",
    "- Please make clear comments and references for any codes written by yourself or copied from other sources."
   ]
  },
  {
   "cell_type": "markdown",
   "metadata": {},
   "source": [
    "### Part 0: Prepare for Colab\n",
    "\n",
    "If you work on [Google Colab](https://colab.research.google.com), you need to first install PyTorch each time you run the file. You can also upload file and load files from your google drive.\n",
    "Besides, you can also select GPU as Hardware accelerator in Edit->Notebook settings. \n",
    "\n",
    "Remember to run some of the following blocks if you work on Google Colab. You can ignore this part if you are not using Google Colab."
   ]
  },
  {
   "cell_type": "code",
   "execution_count": null,
   "metadata": {},
   "outputs": [],
   "source": []
  },
  {
   "cell_type": "code",
   "execution_count": null,
   "metadata": {},
   "outputs": [],
   "source": []
  },
  {
   "cell_type": "markdown",
   "metadata": {
    "scrolled": true
   },
   "source": [
    "### Part 1: Baseline model\n",
    "You need to run this model successfully to get the marks. You should finish the codes that are used to split the training dataset into training set (45000 images) and validation set (5000 images) and draw the loss curve for training loss and validation loss. You only need to change the codes in 1.2 and 1.6 for successfuly experiments."
   ]
  },
  {
   "cell_type": "markdown",
   "metadata": {},
   "source": [
    "### 1.1 prepare data"
   ]
  },
  {
   "cell_type": "code",
   "execution_count": 1,
   "metadata": {},
   "outputs": [
    {
     "name": "stdout",
     "output_type": "stream",
     "text": [
      "Files already downloaded and verified\n",
      "Files already downloaded and verified\n",
      "initial trainset length\n",
      "50000\n",
      "testset length\n",
      "10000\n"
     ]
    }
   ],
   "source": [
    "import torch\n",
    "import torchvision\n",
    "import torchvision.transforms as transforms\n",
    "import torch.nn as nn\n",
    "import torch.utils.data\n",
    "import torch.nn.functional as F\n",
    "import matplotlib.pyplot as plt\n",
    "import numpy as np\n",
    "import torch.optim as optim\n",
    "from itertools import product\n",
    "import sys \n",
    "import time\n",
    "\n",
    "\n",
    "transform = transforms.ToTensor()\n",
    "\n",
    "trainset = torchvision.datasets.CIFAR10(root='./data', train=True,\n",
    "                                        download=True, transform=transform)\n",
    "\n",
    "testset = torchvision.datasets.CIFAR10(root='./data', train=False,\n",
    "                                       download=True, transform=transform)\n",
    "testloader = torch.utils.data.DataLoader(testset, batch_size=4,\n",
    "                                         shuffle=False, num_workers=0)\n",
    "\n",
    "print('initial trainset length')\n",
    "print(len(trainset))\n",
    "print('testset length')\n",
    "print(len(testset))\n",
    "\n",
    "classes = ('plane', 'car', 'bird', 'cat',\n",
    "           'deer', 'dog', 'frog', 'horse', 'ship', 'truck')"
   ]
  },
  {
   "cell_type": "markdown",
   "metadata": {
    "scrolled": true
   },
   "source": [
    "### 1.2 split the training data into training and validation\n",
    "In most of the cases, you are given the test set, so you need to prepare some validation data to evaluate your model during training stage. You need to make a validation dataset that contains 5000 training images, and the rest 45000 images are used as the new training set."
   ]
  },
  {
   "cell_type": "code",
   "execution_count": 2,
   "metadata": {},
   "outputs": [],
   "source": [
    "# Your split codes comes here.\n",
    "# You need to random select the 5000 validation images \n",
    "\n",
    "\n",
    "\n",
    "# found here: https://pytorch.org/docs/stable/data.html\n",
    "valset, trainset = torch.utils.data.random_split(trainset, [5000,45000])\n",
    "\n",
    "trainloader = torch.utils.data.DataLoader(trainset, batch_size=4,\n",
    "                                          shuffle=True, num_workers=0)\n",
    "\n",
    "valloader = torch.utils.data.DataLoader(valset, batch_size=4,\n",
    "                                         shuffle=False, num_workers=0)\n",
    "\n",
    "def evaluate_validation_set(net, valloader, criterion):\n",
    "    correct = 0\n",
    "    total = 0\n",
    "    running_loss = 0.0\n",
    "    count = 0\n",
    "    with torch.no_grad():\n",
    "        for data in valloader:\n",
    "            images, labels = data\n",
    "            outputs = net(images)\n",
    "            loss = criterion(outputs, labels)\n",
    "            running_loss += loss.item()\n",
    "            _, predicted = torch.max(outputs.data, 1)\n",
    "            total += labels.size(0)\n",
    "            correct += (predicted == labels).sum().item()\n",
    "            count += 1\n",
    "\n",
    "    accuracy = correct / total\n",
    "    loss = running_loss/count\n",
    "    return accuracy, loss\n",
    "# besides, you can also make modifications for faster training \n",
    "# by selecting a subset of the original dataset."
   ]
  },
  {
   "cell_type": "markdown",
   "metadata": {},
   "source": [
    "### 1.3 Define a Baseline Convolution Neural Network"
   ]
  },
  {
   "cell_type": "code",
   "execution_count": 3,
   "metadata": {},
   "outputs": [],
   "source": [
    "class Net(nn.Module):\n",
    "    def __init__(self):\n",
    "        super(Net, self).__init__()\n",
    "        self.conv1 = nn.Conv2d(3, 6, 5)\n",
    "        self.pool = nn.MaxPool2d(2, 2)\n",
    "        self.conv2 = nn.Conv2d(6, 16, 5)\n",
    "        self.fc1 = nn.Linear(16 * 5 * 5, 120)\n",
    "        self.fc2 = nn.Linear(120, 84)\n",
    "        self.fc3 = nn.Linear(84, 10)\n",
    "\n",
    "    def forward(self, x):\n",
    "        x = self.pool(F.relu(self.conv1(x)))\n",
    "        x = self.pool(F.relu(self.conv2(x)))\n",
    "        x = x.view(-1, 16 * 5 * 5)\n",
    "        x = F.relu(self.fc1(x))\n",
    "        x = F.relu(self.fc2(x))\n",
    "        x = self.fc3(x)\n",
    "        return x\n",
    "\n",
    "\n",
    "net = Net()"
   ]
  },
  {
   "cell_type": "markdown",
   "metadata": {},
   "source": [
    "### 1.4 Define a Loss function and optimizer"
   ]
  },
  {
   "cell_type": "code",
   "execution_count": 4,
   "metadata": {},
   "outputs": [],
   "source": [
    "\n",
    "criterion = nn.CrossEntropyLoss()\n",
    "optimizer = optim.SGD(net.parameters(), lr=0.001, momentum=0.9)\n"
   ]
  },
  {
   "cell_type": "markdown",
   "metadata": {},
   "source": [
    "### 1.5 Train the network"
   ]
  },
  {
   "cell_type": "code",
   "execution_count": 5,
   "metadata": {},
   "outputs": [],
   "source": [
    "# iteration_log = []\n",
    "# loss_log = []\n",
    "# accuracy_log = []\n",
    "# validation_loss_log = []\n",
    "# validation_accuracy_log = []\n",
    "# visualizer_iteration = 1000\n",
    "# for epoch in range(2):  # loop over the dataset multiple times\n",
    "\n",
    "#     running_loss = 0.0\n",
    "#     running_loss2 = 0.0\n",
    "#     running_total = 0\n",
    "#     running_correct = 0\n",
    "#     for i, data in enumerate(trainloader, 0):\n",
    "#         # get the inputs\n",
    "#         inputs, labels = data\n",
    "#         # zero the parameter gradients\n",
    "#         optimizer.zero_grad()\n",
    "\n",
    "#         # forward + backward + optimize\n",
    "#         outputs = net(inputs)\n",
    "#         loss = criterion(outputs, labels)\n",
    "#         loss.backward()\n",
    "#         optimizer.step()\n",
    "\n",
    "#         #get accuracy \n",
    "#         _, predicted = torch.max(outputs.data, 1)\n",
    "#         running_total += labels.size(0)\n",
    "#         running_correct += (predicted == labels).sum().item()\n",
    "\n",
    "#         # print statistics\n",
    "#         running_loss += loss.item()\n",
    "#         running_loss2 += loss.item()\n",
    "\n",
    "#         if i % visualizer_iteration == 0 and i != 0:\n",
    "#             accuracy, loss = evaluate_validation_set(net, valloader, criterion)\n",
    "#             validation_accuracy_log.append(accuracy)\n",
    "#             validation_loss_log.append(loss)\n",
    "\n",
    "#             iteration_log.append(len(trainloader)*(epoch) + i)\n",
    "#             if i != 0:\n",
    "#                 accuracy_log.append(running_correct/running_total)\n",
    "#                 loss_log.append(running_loss2/visualizer_iteration)\n",
    "#             else:\n",
    "#                 accuracy_log.append(running_correct)\n",
    "#                 loss_log.append(running_loss2)\n",
    "        \n",
    "#             running_correct = 0\n",
    "#             running_total = 0\n",
    "#             running_loss2 = 0.0\n",
    "#             # print('iteration_log:')\n",
    "#             # print(iteration_log)\n",
    "#             # print('loss_log:')\n",
    "#             # print(loss_log)\n",
    "#             # print('accuracy_log:')\n",
    "#             # print(accuracy_log)\n",
    "\n",
    "#         if i % 2000 == 1999:    # print every 2000 mini-batches\n",
    "\n",
    "#             print('[%d, %5d] loss: %.3f' %\n",
    "#                   (epoch + 1, i + 1, running_loss / 2000))\n",
    "#             running_loss = 0.0\n",
    "\n",
    "# print('Finished Training')"
   ]
  },
  {
   "cell_type": "markdown",
   "metadata": {
    "scrolled": true
   },
   "source": [
    "### 1.6 visualize the loss and accuracy\n",
    "Using the loss of both training data and validation data to evaluate the model."
   ]
  },
  {
   "cell_type": "code",
   "execution_count": 6,
   "metadata": {},
   "outputs": [],
   "source": [
    "%matplotlib inline\n",
    "# import matplotlib.pyplot as plt\n",
    "# import numpy as np\n",
    "\n",
    "# # functions to show the loss\n",
    "\n",
    "# plt.figure(1)\n",
    "\n",
    "# plt.subplot(211)\n",
    "# plt.plot(iteration_log, loss_log, 'r--', label = 'training loss')\n",
    "# plt.plot(iteration_log, validation_loss_log, 'b-.', label = 'validation loss')\n",
    "# plt.title('Loss for training and validation')\n",
    "# plt.xlabel('training iterations')\n",
    "# legend = plt.legend(loc='upper right', shadow=True)\n",
    "# plt.subplot(212)\n",
    "# plt.plot(iteration_log, accuracy_log, 'r--', label = 'training accuracy')\n",
    "# plt.plot(iteration_log, validation_accuracy_log, 'b-.', label = 'validation accuracy')\n",
    "# plt.title('Accuracy for training and validation')\n",
    "# plt.xlabel('training iterations')\n",
    "# legend = plt.legend(loc='lower right', shadow=True)\n",
    "\n",
    "# plt.tight_layout()\n",
    "# plt.show()\n",
    "\n"
   ]
  },
  {
   "cell_type": "markdown",
   "metadata": {},
   "source": [
    "### 1.7 Eval the trained network"
   ]
  },
  {
   "cell_type": "code",
   "execution_count": 7,
   "metadata": {},
   "outputs": [
    {
     "name": "stdout",
     "output_type": "stream",
     "text": [
      "Accuracy of the network on the 10000 test images: 10 %\n"
     ]
    }
   ],
   "source": [
    "def eval_net(net, testloader):\n",
    "    correct = 0\n",
    "    total = 0\n",
    "    with torch.no_grad():\n",
    "        for data in testloader:\n",
    "            images, labels = data\n",
    "            outputs = net(images)\n",
    "            _, predicted = torch.max(outputs.data, 1)\n",
    "            total += labels.size(0)\n",
    "            correct += (predicted == labels).sum().item()\n",
    "\n",
    "    print('Accuracy of the network on the 10000 test images: %d %%' % (\n",
    "        100 * correct / total))\n",
    "\n",
    "eval_net(net, testloader)"
   ]
  },
  {
   "cell_type": "markdown",
   "metadata": {},
   "source": [
    "### Part 2: Hyperparameters Selection\n",
    "Following the instruction file, you need to make choices for each hyperparameters:\n",
    "\n",
    "1. Batch size: 8\n",
    "2. Base learning rate: 0.001\n",
    "3. Number of epochs: 4"
   ]
  },
  {
   "cell_type": "markdown",
   "metadata": {},
   "source": [
    "**Question**: Why do you make such choices? Use some figures, math equations, codes and printout to make analysis."
   ]
  },
  {
   "cell_type": "code",
   "execution_count": 8,
   "metadata": {},
   "outputs": [
    {
     "name": "stdout",
     "output_type": "stream",
     "text": [
      "[1,  2000] loss: 2.303\n",
      "[1,  4000] loss: 2.300\n",
      "[2,  2000] loss: 2.014\n",
      "[2,  4000] loss: 1.805\n",
      "[3,  2000] loss: 1.627\n",
      "[3,  4000] loss: 1.562\n",
      "[4,  2000] loss: 1.444\n",
      "[4,  4000] loss: 1.437\n",
      "Finished!\n",
      "Best validation accuracy: 0.499\n"
     ]
    },
    {
     "data": {
      "image/png": "[encoded data removed]",
      "text/plain": [
       "<matplotlib.figure.Figure at 0x276331634a8>"
      ]
     },
     "metadata": {},
     "output_type": "display_data"
    }
   ],
   "source": [
    "# Your codes comes here. \n",
    "# Please do not define the networks again, just make changes to the training procedure.\n",
    "\n",
    "def train(num_epochs, btch_size, learn_rate, trainset, valset):\n",
    "    start_time = time.time()\n",
    "    trainloader = torch.utils.data.DataLoader(trainset, batch_size=btch_size,\n",
    "                                          shuffle=True, num_workers=0)\n",
    "\n",
    "    valloader = torch.utils.data.DataLoader(valset, batch_size=btch_size,\n",
    "                                         shuffle=False, num_workers=0)\n",
    "\n",
    "    net = Net() \n",
    "\n",
    "    criterion = nn.CrossEntropyLoss()\n",
    "    optimizer = optim.SGD(net.parameters(), lr=learn_rate, momentum=0.9)\n",
    "\n",
    "    #initialize variables for logging results\n",
    "    iteration_log = []\n",
    "    loss_log = []\n",
    "    accuracy_log = []\n",
    "    validation_loss_log = []\n",
    "    validation_accuracy_log = []\n",
    "    visualizer_iteration = 1000 #set how many batches are passed before avg accuracy and loss are saved\n",
    "\n",
    "    for epoch in range(num_epochs):  # loop over the dataset for num_epochs\n",
    "        elapsed_time = time.time() - start_time\n",
    "        if elapsed_time > 60 * 20: #If training takes longer than 20 mins then end early\n",
    "            print('Ended early')\n",
    "            return net, iteration_log, loss_log, validation_loss_log, accuracy_log, validation_accuracy_log\n",
    "        running_loss = 0.0\n",
    "        log_running_loss = 0.0\n",
    "        running_total = 0\n",
    "        running_correct = 0\n",
    "\n",
    "        for i, data in enumerate(trainloader, 0):\n",
    "            \n",
    "            # get the inputs\n",
    "            inputs, labels = data\n",
    "            # zero the parameter gradients\n",
    "            optimizer.zero_grad()\n",
    "\n",
    "            # forward + backward + optimize\n",
    "            outputs = net(inputs)\n",
    "            loss = criterion(outputs, labels)\n",
    "            loss.backward()\n",
    "            optimizer.step()\n",
    "\n",
    "            #get accuracy \n",
    "            _, predicted = torch.max(outputs.data, 1)\n",
    "            running_total += labels.size(0)\n",
    "            running_correct += (predicted == labels).sum().item()\n",
    "\n",
    "            # running losses\n",
    "            running_loss += loss.item()\n",
    "            log_running_loss += loss.item()\n",
    "\n",
    "            if i % visualizer_iteration == 0 and i != 0: #Get avg accuracy and loss for training and validation\n",
    "                accuracy, loss = evaluate_validation_set(net, valloader, criterion) #find the avg accuracy and loss of the current net on the validation set\n",
    "                validation_accuracy_log.append(accuracy)\n",
    "                validation_loss_log.append(loss)\n",
    "\n",
    "                iteration_log.append(len(trainloader)*(epoch) + i)\n",
    "                if i != 0:\n",
    "                    accuracy_log.append(running_correct/running_total)\n",
    "                    loss_log.append(log_running_loss/visualizer_iteration)\n",
    "                else:\n",
    "                    accuracy_log.append(running_correct)\n",
    "                    loss_log.append(log_running_loss)\n",
    "            \n",
    "                running_correct = 0\n",
    "                running_total = 0\n",
    "                log_running_loss = 0.0\n",
    "\n",
    "            if i % 2000 == 1999:    # print every 2000 mini-batches\n",
    "\n",
    "                print('[%d, %5d] loss: %.3f' %\n",
    "                      (epoch + 1, i + 1, running_loss / 2000))\n",
    "                running_loss = 0.0\n",
    "\n",
    "    return net, iteration_log, loss_log, validation_loss_log, accuracy_log, validation_accuracy_log\n",
    "\n",
    "def plot_results(option, count, iteration_log, loss_log, validation_loss_log, accuracy_log, validation_accuracy_log):\n",
    "    btch_size = option[0]\n",
    "    learn_rate = option[1]\n",
    "    num_epochs = option[2]\n",
    "    iteration_log = np.linspace(0,num_epochs,len(iteration_log))\n",
    "    top_title =  'batch size: %d, learn rate: %f, epochs: %d' % (btch_size, learn_rate, num_epochs)\n",
    "    plt.figure(count+1)\n",
    "\n",
    "    plt.suptitle(top_title)\n",
    "    plt.subplot(211)\n",
    "    plt.plot(iteration_log, loss_log, 'r--', label = 'training loss')\n",
    "    plt.plot(iteration_log, validation_loss_log, 'b-.', label = 'validation loss')\n",
    "    plt.title('Loss for training and validation')\n",
    "    plt.xlabel('epochs')\n",
    "    legend = plt.legend(loc='upper right', shadow=True)\n",
    "    plt.subplot(212)\n",
    "    plt.plot(iteration_log, accuracy_log, 'r--', label = 'training accuracy')\n",
    "    plt.plot(iteration_log, validation_accuracy_log, 'b-.', label = 'validation accuracy')\n",
    "    plt.title('Accuracy for training and validation')\n",
    "    plt.xlabel('epochs')\n",
    "    legend = plt.legend(loc='lower right', shadow=True)\n",
    "    plt.tight_layout()\n",
    "    plt.subplots_adjust(top=0.88)\n",
    "    string = '%d.png' % (count)\n",
    "    plt.savefig(string, bbox_inches='tight')\n",
    "    \n",
    "batch_opts = [8]\n",
    "lr_opts = [0.001]\n",
    "epoch_opts = [4]\n",
    "\n",
    "all_options = list(product(batch_opts,lr_opts,epoch_opts))\n",
    "option_labels = ['batches', 'learning rate','epochs']\n",
    "max_accuracy_list = []\n",
    "\n",
    "count = 0\n",
    "btch_size = 4\n",
    "learn_rate = 0.001\n",
    "num_epochs = 2\n",
    "\n",
    "\n",
    "for option in all_options:\n",
    "    btch_size = option[0]\n",
    "    learn_rate = option[1]\n",
    "    num_epochs = option[2]\n",
    "    # print(btch_size,learn_rate, num_epochs)\n",
    "    start_time = time.time()\n",
    "    net, iteration_log, loss_log, validation_loss_log, accuracy_log, validation_accuracy_log = train(num_epochs, btch_size, learn_rate, trainset, valset)\n",
    "    elapsed_time = (time.time() - start_time)/60\n",
    "    max_accuracy = max(validation_accuracy_log)\n",
    "    max_accuracy_list.append(max_accuracy)\n",
    "    min_loss = min(validation_loss_log)\n",
    "    total_best_accuracy = max(max_accuracy_list)\n",
    "    print('Finished!')\n",
    "    print('Best validation accuracy: %.3f' % (total_best_accuracy))\n",
    "    eval_net(net, testloader)\n",
    "    plot_results(option, count, iteration_log, loss_log, validation_loss_log, accuracy_log, validation_accuracy_log)\n",
    "    plt.show()\n",
    "    count += 1\n",
    "    \n"
   ]
  },
  {
   "cell_type": "markdown",
   "metadata": {},
   "source": [
    "##### your analysis comes here:\n",
    "-----\n",
    "\n",
    "#### What are the choices that could be empirically ignored without doing any experiments?  \n",
    "The choices that could be empirically ignored without doing any experiments are those values that are either far larger or far smaller than those normally used in similar convolutional neural nets (CNNs). \n",
    "\n",
    "Larger batch size is generally associated with better results so I ignored a batch size of 1. I tested all other sizes as the options 2,4,8 were close enough together and I have a good enough computer to use high batch sizes. \n",
    "\n",
    "For number of epochs, 1 epoch can be ignored because accurate convergence is very unlikely to be achieved in 1 epoch, which would result in underfitting. This is because Stochastic Gradient Descent takes many iterations to reduce loss and in order to achieve highest possible test accuracy a learning rate must be chosen that takes at least several epochs to converge so that optimal minima are found. I expected that 16 epochs would result in overfitting but tested it just to be sure. \n",
    "\n",
    "For learning rate, we can empirically ignore 0.005, 0.0005 and 0.00005. This is because the new weights are updated according to the following formula:\n",
    "\n",
    "new_weight = existing_weight — learning_rate * gradient\n",
    "\n",
    "The learning rate needs to be a power of 10, otherwise the update will be skewed. This can be seen by comparing the below 2 figures, which use the same parameters other than their learning rates. \n",
    "<p style=\"text-align: center;\">**figure 1**</p>\n",
    "<img src=\"images/lrexample1.png\" width=\"45%\"/>\n",
    "<p style=\"text-align: center;\">**figure 2**</p>\n",
    "<img src=\"images/lrexample2.png\" width=\"45%\"/>\n",
    "\n",
    " \n",
    "#### Were you correct after you conduct the experiments?   \n",
    "The first thing I found is that larger batch size did indeed give better results, as can be seen by comparing the 2 below figures, which have all the same paramaters other than batch size. There is not an extreme difference between the 2 plots but the result with a batch size of 8 is noticeably less overfitted.  \n",
    "<p style=\"text-align: center;\">**figure 3**</p>\n",
    "<img src=\"images/batch1.png\" width=\"45%\"/>\n",
    "<p style=\"text-align: center;\">**figure 4**</p>\n",
    "<img src=\"images/batch2.png\" width=\"45%\"/>\n",
    "\n",
    "#### How many epochs are passed when the network is converged?   \n",
    "\n",
    "How fast the network converges depends on the learning rate. Given a batch size of 8, I found that a learning rate of 0.001 converges at approximately 4 epochs while a learning rate of 0.0001 converges at approximately 16 epochs. A learning rate of 0.00001 is not even close to converging after 16 epochs. These findings can be seen in the below 3 figures.   \n",
    "\n",
    "<p style=\"text-align: center;\">**figure 5**</p>\n",
    "<img src=\"images/converge3.png\" width=\"45%\"/>\n",
    "<p style=\"text-align: center;\">**figure 6**</p>\n",
    "<img src=\"images/converge1.png\" width=\"45%\"/>\n",
    "<p style=\"text-align: center;\">**figure 7**</p>\n",
    "<img src=\"images/converge2.png\" width=\"45%\"/>\n",
    " \n",
    "\n",
    "#### Why too large or too small learning rates are not good choices?   \n",
    "The learning rate controls the degree to which we adjust the network rates during Stochastic Gradient Descent. If we adjust the gradient too little in each step, it will take too long for the network to converge. If we adjust the gradient to much at each step, the loss will initially decrease fast but then not reach the optimal minimum because it may overshoot the minimum or even diverge.    \n",
    "\n",
    "#### What are the specification of the computer you are using? E.g. the cpu/gpu type and the corresponding memory.   \n",
    "I ran the tests for part 2 on my GPU using cuda. \n",
    "\n",
    "Processor: Intel Xeon E3-1200 \n",
    "Memory: 16GB 1333MHz ECC memory\n",
    "GPU: GEFORCE GTX 1060 6GB\n",
    "\n",
    "#### How long do you run an epoch?  Did you use samples of the original dataset to speed up your progress, and how did it work?  \n",
    "Each epoch took approximately 48 seconds, using cuda. I did not use samples from the original dataset. \n",
    "\n",
    "#### Are there any overfitting problems?   \n",
    "Yes. Figure 5 shows that with a batch size of 8 and a learning rate of 0.001 the network begins to overfit after 4 epochs. Overfitting starts earlier with lower batch sizes. \n",
    "\n",
    "## Final analysis:\n",
    "\n",
    "Focusing purely on performance on the test set, the following parameters performed best with a test accuracy of 60%:\n",
    "batch size = 8, learning rate = 0.0001, epochs = 16. The training curves of this network can be seen in figure 6.  \n",
    "This is not a surprise, as we can predict that the network will become more accurate given more training epochs, assuming that the learning rate is small enough to prevent overfitting before training ends. As noted earlier, a larger batch size is also generally better. However, the disadvantage of these parameters is that the network takes the maximum amount of time to train, 16 epochs.  \n",
    "\n",
    "The following parameters achieved a test accuracy of 59% in only 8 epochs:\n",
    "batch size = 8, learning rate = 0.001, epochs = 8. The training curves of this network can be seen in figure 8 below.\n",
    "When we consider that this network converged in half the time with only a 1% difference in accuracy, we may argue that these parameters perform best if fast training is a desired attribute.  \n",
    "\n",
    "<p style=\"text-align: center;\">**figure 8**</p>\n",
    "<img src=\"images/fast_converge.png\" width=\"45%\"/>\n",
    "\n"
   ]
  },
  {
   "cell_type": "markdown",
   "metadata": {},
   "source": [
    "### Part 3: More options\n",
    "\n",
    "Please indicate the three tasks you are assigned here:\n",
    "\n",
    "1) Transformation: e.g. Resize (hyperparameters: size, interpolation), ...\n",
    "\n",
    "2) Structure: \n",
    "\n",
    "3) Training procedure: "
   ]
  },
  {
   "cell_type": "markdown",
   "metadata": {},
   "source": [
    "For your new baseline and the test for different options, you need to write them in **ONE** single `.py` file. You can debug here, but do **NOT** include your codes in the submitted ipynb file. Your codes for this part will be put in the **project1.py** file."
   ]
  },
  {
   "cell_type": "markdown",
   "metadata": {},
   "source": [
    "**Question**: how do you define your new baseline and why? Please highlight the differences between your new baseline and the previous baseline."
   ]
  },
  {
   "cell_type": "markdown",
   "metadata": {},
   "source": [
    "##### your analysis comes here:\n",
    "-----\n",
    "1) \n",
    "\n",
    "2) \n",
    "\n",
    "\n",
    "_____"
   ]
  },
  {
   "cell_type": "markdown",
   "metadata": {},
   "source": [
    "**Question**: how did you test the three tasks and what did you learn? Please use some figures, math equations and output from your codes to make analysis. "
   ]
  },
  {
   "cell_type": "markdown",
   "metadata": {},
   "source": [
    "##### your analysis comes here:\n",
    "-----\n",
    "1) \n",
    "\n",
    "2) \n",
    "\n",
    "\n",
    "_____"
   ]
  },
  {
   "cell_type": "markdown",
   "metadata": {},
   "source": [
    "### Reference\n",
    "1. Author, Title, url\n",
    "2. \n",
    "3. "
   ]
  },
  {
   "cell_type": "markdown",
   "metadata": {},
   "source": [
    "### Specs:\n",
    "e.g. Your cpu version or GPU version, the memory size of your computer. Your software versions."
   ]
  }
 ],
 "metadata": {
  "kernelspec": {
   "display_name": "Python 3",
   "language": "python",
   "name": "python3"
  },
  "language_info": {
   "codemirror_mode": {
    "name": "ipython",
    "version": 3
   },
   "file_extension": ".py",
   "mimetype": "text/x-python",
   "name": "python",
   "nbconvert_exporter": "python",
   "pygments_lexer": "ipython3",
   "version": "3.6.4"
  }
 },
 "nbformat": 4,
 "nbformat_minor": 2
}
